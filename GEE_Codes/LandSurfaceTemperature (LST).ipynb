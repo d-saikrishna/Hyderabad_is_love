{
 "cells": [
  {
   "cell_type": "markdown",
   "id": "20f3472b",
   "metadata": {},
   "source": [
    "Code source: [Ujaval Gandhi](https://twitter.com/spatialthoughts)"
   ]
  },
  {
   "cell_type": "markdown",
   "id": "e9428a19",
   "metadata": {},
   "source": [
    "## GEE Codes"
   ]
  },
  {
   "cell_type": "raw",
   "id": "68c3a604",
   "metadata": {},
   "source": [
    "// import table - Hyderabad Shapefile\n",
    "var geometry = table.geometry();\n",
    "Map.centerObject(geometry, 12);\n",
    "\n",
    "// Landsat Collection 2 Level 2 LST\n",
    "var date_start = '2022-01-01';\n",
    "var date_end = '2023-01-01';\n",
    "\n",
    "var dataset = ee.ImageCollection('LANDSAT/LC08/C02/T1_L2')\n",
    "    .filterDate(date_start, date_end)\n",
    "    .filter(ee.Filter.bounds(geometry))\n",
    "    \n",
    "function maskL8sr(image) {\n",
    "  // Bit 0 - Fill\n",
    "  // Bit 1 - Dilated Cloud\n",
    "  // Bit 2 - Cirrus\n",
    "  // Bit 3 - Cloud\n",
    "  // Bit 4 - Cloud Shadow\n",
    "  var qaMask = image.select('QA_PIXEL').bitwiseAnd(parseInt('11111', 2)).eq(0);\n",
    "  var saturationMask = image.select('QA_RADSAT').eq(0);\n",
    "\n",
    "  // Apply the scaling factors to the appropriate bands.\n",
    "  var opticalBands = image.select('SR_B.').multiply(0.0000275).add(-0.2);\n",
    "  var thermalBands = image.select('ST_B.*').multiply(0.00341802).add(149.0);\n",
    "\n",
    "  // Replace the original bands with the scaled ones and apply the masks.\n",
    "  return image.addBands(opticalBands, null, true)\n",
    "      .addBands(thermalBands, null, true)\n",
    "      .updateMask(qaMask)\n",
    "      .updateMask(saturationMask);\n",
    "}\n",
    "\n",
    "\n",
    "dataset = dataset.map(maskL8sr)\n",
    "\n",
    "// Select B10 band and rename it to LST\n",
    "var lstK = dataset.select(['ST_B10'], ['LST'])\n",
    "\n",
    "// Convert to celsius\n",
    "var lstC = lstK.map(function(image){\n",
    "  return image.subtract(273.15).copyProperties(image, image.propertyNames())\n",
    "})\n",
    "\n",
    "\n",
    "// Filter to May month image to visualize in map. \n",
    "var lstMay  = lstC\n",
    "  .filter(ee.Filter.date('2022-05-01', '2022-06-01')).mean()\n",
    "\n",
    "Map.addLayer(lstMay.clip(geometry),\n",
    "  {min:25, max:45, palette:['green','yellow','red']},\n",
    "  'Landsat-LST (Landsat Collection 2)')\n",
    "\n",
    "Export.image.toDrive({\n",
    "  image: lstMay.clip(geometry),\n",
    "  description: 'lstMay_Hyderabad',\n",
    "  crs: lstMay.crs,\n",
    "  crsTransform: lstMay.transform,\n",
    "  region: geometry\n",
    "});"
   ]
  }
 ],
 "metadata": {
  "kernelspec": {
   "display_name": "Python 3 (ipykernel)",
   "language": "python",
   "name": "python3"
  },
  "language_info": {
   "codemirror_mode": {
    "name": "ipython",
    "version": 3
   },
   "file_extension": ".py",
   "mimetype": "text/x-python",
   "name": "python",
   "nbconvert_exporter": "python",
   "pygments_lexer": "ipython3",
   "version": "3.9.13"
  }
 },
 "nbformat": 4,
 "nbformat_minor": 5
}
